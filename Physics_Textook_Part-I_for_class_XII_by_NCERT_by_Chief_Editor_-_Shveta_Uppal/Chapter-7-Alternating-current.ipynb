{
 "cells": [
  {
   "cell_type": "markdown",
   "metadata": {},
   "source": [
    "# Chapter - 7: Alternating Current"
   ]
  },
  {
   "cell_type": "markdown",
   "metadata": {},
   "source": [
    "## Example 7.1 Page no: 236"
   ]
  },
  {
   "cell_type": "code",
   "execution_count": 1,
   "metadata": {
    "collapsed": false
   },
   "outputs": [
    {
     "name": "stdout",
     "output_type": "stream",
     "text": [
      "bulb resistance in ohm:  128\n",
      "peak voltage in volt:  271.529003976\n",
      "rms current in ampere:  1.5\n"
     ]
    }
   ],
   "source": [
    "from ipywidgets import interact\n",
    "\n",
    "###################### Given ################################\n",
    "P = 100 # power rating of light bulb in watt\n",
    "V = 220 # rms voltage in volt\n",
    "\n",
    "###################### Calculation ##########################\n",
    "def bulb_R_and_Vm_and_Irms(P, V):\n",
    "    R = (V*V) / P # resistance of light bulb in ohm\n",
    "    V_m = (2**0.5) * V # peak voltage of the source in volt\n",
    "    I = P / float(V) # rms current through the bulb in ampere\n",
    "    print \"bulb resistance in ohm: \", R\n",
    "    print \"peak voltage in volt: \", V_m\n",
    "    print \"rms current in ampere: \", I\n",
    "\n",
    "\n",
    "interact(bulb_R_and_Vm_and_Irms, P=(10,1000,1), V=(110,230,1))    "
   ]
  },
  {
   "cell_type": "markdown",
   "metadata": {},
   "source": [
    "## Example 7.2 Page no: 239"
   ]
  },
  {
   "cell_type": "code",
   "execution_count": 2,
   "metadata": {
    "collapsed": false
   },
   "outputs": [
    {
     "name": "stdout",
     "output_type": "stream",
     "text": [
      "inductive reactance in ohm:  11.3222999235\n",
      "rms current in ampere:  15.3679023851\n"
     ]
    }
   ],
   "source": [
    "from ipywidgets import interact\n",
    "from math import pi\n",
    "\n",
    "###################### Given ################################\n",
    "L = 25e-3 # inductance in H\n",
    "V = 220 # rms voltage in volt\n",
    "f = 50 # source frequency in Hz\n",
    "\n",
    "###################### Calculation ##########################\n",
    "def X_L_and_I_rms(L, V, f):\n",
    "    X_L = (2*pi*f) * L # inductive reactance in ohm\n",
    "    I = V / X_L # rms current in ampere\n",
    "\n",
    "    ###################### Display Results ##################\n",
    "    print \"inductive reactance in ohm: \", X_L\n",
    "    print \"rms current in ampere: \", I\n",
    "\n",
    "interact(X_L_and_I_rms, L=(1e-3,100e-3,1e-3), V=(100,240,1), f=(45,65,1))    "
   ]
  },
  {
   "cell_type": "markdown",
   "metadata": {},
   "source": [
    "## Example 7.4 Page no: 242"
   ]
  },
  {
   "cell_type": "code",
   "execution_count": 3,
   "metadata": {
    "collapsed": false,
    "scrolled": true
   },
   "outputs": [
    {
     "name": "stdout",
     "output_type": "stream",
     "text": [
      "capacitive reactance in ohm:  39.2007248995\n",
      "rms current in ampere:  3.41830413452\n",
      "peak current in ampere:  4.83421206735\n"
     ]
    }
   ],
   "source": [
    "from ipywidgets import interact\n",
    "from math import pi, sqrt\n",
    "\n",
    "###################### Given ################################\n",
    "C = 15e-6 # capacitance in farad\n",
    "V = 220 # rms voltage in volt\n",
    "f = 50 # source frequency in Hz\n",
    "\n",
    "###################### Calculation ##########################\n",
    "def X_C_and_I_rms_and_I_m(C, V, f):\n",
    "\n",
    "    X_C = float(1) / (2*pi*f * C) # capacitive reactance in ohm\n",
    "    I = V / X_C # rms current in ampere\n",
    "    I_m = sqrt(2)*I # peak current in ampere\n",
    "\n",
    "###################### Display Results ######################\n",
    "    print \"capacitive reactance in ohm: \", X_C\n",
    "    print \"rms current in ampere: \", I\n",
    "    print \"peak current in ampere: \", I_m\n",
    "    \n",
    "interact(X_C_and_I_rms_and_I_m, C=(1e-6,100e-6,1e-6), V=(100,240,1), f=(45,65,1))    "
   ]
  },
  {
   "cell_type": "markdown",
   "metadata": {},
   "source": [
    "## Example 7.6 Page no: 251"
   ]
  },
  {
   "cell_type": "code",
   "execution_count": 4,
   "metadata": {
    "collapsed": false
   },
   "outputs": [
    {
     "name": "stdout",
     "output_type": "stream",
     "text": [
      "impedance in ohm:  140.272894279\n",
      "rms current in ampere:  1.42579221045\n",
      "voltage across R, in volt:  189.63036399\n",
      "voltage across C, in volt:  63.5635512928\n"
     ]
    }
   ],
   "source": [
    "from ipywidgets import interact\n",
    "from math import pi, sqrt\n",
    "\n",
    "###################### Given ################################\n",
    "R = 200 # resistance in ohm\n",
    "C = 15e-6 # capacitance in farad\n",
    "V = 220 # rms voltage in volt\n",
    "f = 50 # source frequency in Hz\n",
    "\n",
    "###################### Calculation ##########################\n",
    "def RC_ckt(R,C,V,f):\n",
    "    X_C = float(1) / (2*pi*f * C) # capacitive reactance in ohm\n",
    "    Z = sqrt(R*R + X_C*X_C)\n",
    "    I = V / Z # rms current in ampere\n",
    "    V_R = I*R # voltage across R, in volt\n",
    "    V_C = I*X_C # voltage across C, in volt\n",
    "\n",
    "    ################## Display Results ######################\n",
    "    print \"impedance in ohm: \", Z\n",
    "    print \"rms current in ampere: \", I\n",
    "    print \"voltage across R, in volt: \", V_R\n",
    "    print \"voltage across C, in volt: \", V_C \n",
    "    \n",
    "interact(RC_ckt, R=(1,1000,1), C=(1e-6,100e-6,1e-6), V=(100,240,5), f=(45,65,1))    "
   ]
  },
  {
   "cell_type": "markdown",
   "metadata": {},
   "source": [
    "## Example 7.8 Page no: 253"
   ]
  },
  {
   "cell_type": "code",
   "execution_count": 5,
   "metadata": {
    "collapsed": false
   },
   "outputs": [
    {
     "name": "stdout",
     "output_type": "stream",
     "text": [
      "impedance in ohm:  747.818503266\n",
      "phase difference in degrees:  4.97605642003\n",
      "rms current in ampere:  0.179656277344\n",
      "power loss in the circuit:  24.0459016018\n",
      "power factor:  0.996231032994\n"
     ]
    }
   ],
   "source": [
    "from ipywidgets import interact\n",
    "from math import *\n",
    "\n",
    "###################### Given ################################\n",
    "V_m = 283 # peak voltage of sinusoidal wave in volt\n",
    "f = 50 # source frequency in Hz\n",
    "R = 3 # resistance in ohm\n",
    "L = 25.48e-3 # inductance in henry\n",
    "C = 796e-6 # capacitance in farad\n",
    "\n",
    "###################### Calculation ##########################\n",
    "def RLC_ckt(V_m, R, L, C, f):\n",
    "    X_L = (2*pi*f) * L # inductive reactance in ohm\n",
    "    X_C = float(1) / (2*pi*f * C) # capacitive reactance in ohm\n",
    "    Z = sqrt(R*R + (X_L - X_C)**2) # impedance in ohm\n",
    "    phi = atan((X_C - X_L)/float(R))*180/pi # phase difference in degrees\n",
    "    I = V_m / (sqrt(2)*Z) # rms current in ampere\n",
    "    P = I*I*R # power loss in R, in watt\n",
    "    pf = cos(phi*pi/180) # power factor\n",
    "\n",
    "    ###################### Display Results ######################\n",
    "    print \"impedance in ohm: \", Z\n",
    "    print \"phase difference in degrees: \", phi\n",
    "    print \"rms current in ampere: \", I\n",
    "    print \"power loss in the circuit: \", P\n",
    "    print \"power factor: \", pf\n",
    "\n",
    "interact(RLC_ckt, V_m=(150,340,1), R=(1,1000,1), L=(1e-3,100e-3,1e-3),C=(1e-6,100e-6,1e-6), V=(100,240,5), f=(45,65,1))    "
   ]
  },
  {
   "cell_type": "markdown",
   "metadata": {},
   "source": [
    "## Example 7.9 Page no: 254"
   ]
  },
  {
   "cell_type": "code",
   "execution_count": 6,
   "metadata": {
    "collapsed": false
   },
   "outputs": [
    {
     "name": "stdout",
     "output_type": "stream",
     "text": [
      "impedance in ohm:  307.649549475\n",
      "phase difference in degrees:  20.0522148818\n",
      "rms current in ampere:  0.652750267959\n",
      "power loss in the circuit:  123.137961661\n",
      "power factor:  0.939380540272\n"
     ]
    }
   ],
   "source": [
    "from ipywidgets import interact\n",
    "from math import pi, sqrt\n",
    "\n",
    "###################### Given ################################\n",
    "V_m = 283 # peak voltage of sinusoidal wave in volt\n",
    "f = 50 # source frequency in Hz\n",
    "R = 3 # resistance in ohm\n",
    "L = 25.48e-3 # inductance in henry\n",
    "C = 796e-6 # capacitance in farad\n",
    "\n",
    "###################### Calculation ##########################\n",
    "def resonant_ckt(V_m, R, L, C, f):\n",
    "    omega_resonant = 1 / sqrt(L*C)\n",
    "    f_resonant = omega_resonant / (2*pi)\n",
    "    X_C = float(1) / (2*pi*f * C) # capacitive reactance in ohm\n",
    "    Z = R # at resonance X_L = X_C ==> Z = R\n",
    "    V = V_m / sqrt(2) # rms voltage in volt\n",
    "    I = V / Z # rms current in ampere\n",
    "    P = I*I*R # power loss in R, in watt\n",
    "\n",
    "    ###################### Display Results ######################\n",
    "    print \"resonant frequency in Hz: \", f_resonant\n",
    "    print \"impedance in ohm: \", Z\n",
    "    print \"rms current in ampere: \", I\n",
    "    print \"power loss in the circuit during resonance, in watt: \", P\n",
    "\n",
    "interact(RLC_ckt, V_m=(150,340,1), R=(1,1000,1), L=(1e-3,100e-3,1e-3),C=(1e-6,100e-6,1e-6), V=(100,240,5), f=(45,65,1))    "
   ]
  },
  {
   "cell_type": "code",
   "execution_count": null,
   "metadata": {
    "collapsed": true
   },
   "outputs": [],
   "source": []
  }
 ],
 "metadata": {
  "kernelspec": {
   "display_name": "Python 2",
   "language": "python",
   "name": "python2"
  },
  "language_info": {
   "codemirror_mode": {
    "name": "ipython",
    "version": 2
   },
   "file_extension": ".py",
   "mimetype": "text/x-python",
   "name": "python",
   "nbconvert_exporter": "python",
   "pygments_lexer": "ipython2",
   "version": "2.7.5"
  }
 },
 "nbformat": 4,
 "nbformat_minor": 0
}
