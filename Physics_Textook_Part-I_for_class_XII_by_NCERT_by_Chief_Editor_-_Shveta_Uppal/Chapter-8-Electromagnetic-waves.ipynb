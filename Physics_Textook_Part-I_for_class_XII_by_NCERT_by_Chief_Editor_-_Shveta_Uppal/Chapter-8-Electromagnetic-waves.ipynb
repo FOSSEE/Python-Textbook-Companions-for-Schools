{
 "cells": [
  {
   "cell_type": "markdown",
   "metadata": {},
   "source": [
    "# Chapter - 8: Electromagnetic waves"
   ]
  },
  {
   "cell_type": "markdown",
   "metadata": {},
   "source": [
    "## Example 8.1 Page no: 273"
   ]
  },
  {
   "cell_type": "code",
   "execution_count": 14,
   "metadata": {
    "collapsed": false
   },
   "outputs": [
    {
     "name": "stdout",
     "output_type": "stream",
     "text": [
      "displacement current in ampere:  2.49999449999210e-7\n",
      "magnetic flux density in tesla:  9.99997799996840e-14\n"
     ]
    },
    {
     "data": {
      "text/plain": [
       "<function __main__.id_and_B>"
      ]
     },
     "execution_count": 14,
     "metadata": {},
     "output_type": "execute_result"
    }
   ],
   "source": [
    "from math import pi, exp\n",
    "from sympy import *\n",
    "from ipywidgets import interact\n",
    "\n",
    "###################### Given ################################\n",
    "C = 1e-9 # capacitance in farad\n",
    "R = 1e+6 # resistance in ohm\n",
    "V = 2 # battery voltage, in volt \n",
    "\n",
    "###################### Calculation ##########################\n",
    "def id_and_B(C, R, V):\n",
    "    tou = C*R\n",
    "    t, mu = symbols('t mu')\n",
    "    q_t = C*V*(1 - exp(-t/tou))\n",
    "\n",
    "    ###### Theory: from textbook\n",
    "    ###### loop radius 0.5 m parallel to the plates passing P\n",
    "    ###### Flux phi = E * area of the loop\n",
    "    ###### phi = E * pi * (0.5)**2 = q_t / (4*ϵ)\n",
    "    ###### i_d = ϵ * diff(phi/t) = 0.25 * diff(q_t/t)  \n",
    "\n",
    "    i_d = 0.25*diff(q_t, t)\n",
    "    i_d = i_d.subs(t, 1e-3)\n",
    "\n",
    "    ###### B*2*pi*0.5 = mu*(i_c + i_d) = mu(0 + i_d)\n",
    "    ###### B = mu*i_d / (2*pi*0.5)\n",
    "    B = mu*i_d / (2*pi*0.5)\n",
    "    B = B.subs(mu, 4*pi*1e-7)\n",
    "\n",
    "    ###################### Display Results ######################\n",
    "    print \"displacement current in ampere: \", i_d\n",
    "    print \"magnetic flux density in tesla: \", B\n",
    "\n",
    "interact(id_and_B, C=(1e-5,10e-5,1e-5), R=(1,1e+7,10), V=(1,10,1))        "
   ]
  },
  {
   "cell_type": "markdown",
   "metadata": {},
   "source": [
    "## Example 8.4 Page no: 279"
   ]
  },
  {
   "cell_type": "code",
   "execution_count": 3,
   "metadata": {
    "collapsed": false
   },
   "outputs": [
    {
     "name": "stdout",
     "output_type": "stream",
     "text": [
      "total energy falling on the surface in J:  2250000\n",
      "total momentum in kg-m/s:  0.0075\n",
      "average force exerted on the surface in N:  8.33333333333e-06\n"
     ]
    }
   ],
   "source": [
    "from ipywidgets import interact\n",
    "\n",
    "###################### Given ################################\n",
    "energy_flux = 18 # in W/cm^2\n",
    "surface_area = 20 # in cm^2\n",
    "time_span = 30 * 60 # in second\n",
    "\n",
    "###################### Calculation ##########################\n",
    "def energy_and_momentum(energy_flux, surface_area, time_span_mins):\n",
    "    U = energy_flux * surface_area * time_span_mins*60 # total energy in J\n",
    "    c = 3e+8 # speed of light in m/s\n",
    "    p = U / c # total momentum in kg-m/s\n",
    "    F = p / (time_span_mins*60)\n",
    "\n",
    "    ################## Display Results ######################\n",
    "    print \"total energy falling on the surface in J: \", U\n",
    "    print \"total momentum in kg-m/s: \", p\n",
    "    print \"average force exerted on the surface in N: \", F\n",
    "    \n",
    "interact(energy_and_momentum, energy_flux=(1,100,1), surface_area=(1,100,1), time_span_mins=(1,60,1))"
   ]
  },
  {
   "cell_type": "markdown",
   "metadata": {},
   "source": [
    "## Example 8.5 Page no: 279 "
   ]
  },
  {
   "cell_type": "code",
   "execution_count": 34,
   "metadata": {
    "collapsed": false
   },
   "outputs": [
    {
     "name": "stdout",
     "output_type": "stream",
     "text": [
      "rms electric field in E/m:  1.31983561753\n",
      "peak electric field in E/m:  1.86652943041\n",
      "strength of magnetic field in tesla:  4.39945205842e-09\n"
     ]
    }
   ],
   "source": [
    "from ipywidgets import interact\n",
    "from math import pi, sqrt\n",
    "\n",
    "###################### Given ################################\n",
    "P = 100 # power rating of bulb in watt\n",
    "r = 3 # distance of radiation from bulb in meter\n",
    "bulb_efficiency = 2.5/100 # in percent\n",
    "\n",
    "###################### Calculation ##########################\n",
    "def E_and_B(P, r, bulb_efficiency):\n",
    "    A = 4*pi*r*r # surface area in m^2\n",
    "    I = (P*bulb_efficiency/100) / A # intensity in W/m^2\n",
    "    E_rms = sqrt(I / (8.85e-12 * 3e+8))\n",
    "    E_peak = sqrt(2) * E_rms\n",
    "    c = 3e+8 # speed of light in m/s\n",
    "    B_rms = E_rms / c\n",
    "\n",
    "    ###################### Display Results ######################\n",
    "    print \"rms electric field in E/m: \", E_rms\n",
    "    print \"peak electric field in E/m: \", E_peak\n",
    "    print \"strength of magnetic field in tesla: \", B_rms\n",
    "    \n",
    "interact(E_and_B, P=(1,500,1), r=(1,100,1), bulb_efficiency=(1,100,0.1))    "
   ]
  },
  {
   "cell_type": "code",
   "execution_count": null,
   "metadata": {
    "collapsed": true
   },
   "outputs": [],
   "source": []
  }
 ],
 "metadata": {
  "kernelspec": {
   "display_name": "Python 2",
   "language": "python",
   "name": "python2"
  },
  "language_info": {
   "codemirror_mode": {
    "name": "ipython",
    "version": 2
   },
   "file_extension": ".py",
   "mimetype": "text/x-python",
   "name": "python",
   "nbconvert_exporter": "python",
   "pygments_lexer": "ipython2",
   "version": "2.7.5"
  }
 },
 "nbformat": 4,
 "nbformat_minor": 0
}
