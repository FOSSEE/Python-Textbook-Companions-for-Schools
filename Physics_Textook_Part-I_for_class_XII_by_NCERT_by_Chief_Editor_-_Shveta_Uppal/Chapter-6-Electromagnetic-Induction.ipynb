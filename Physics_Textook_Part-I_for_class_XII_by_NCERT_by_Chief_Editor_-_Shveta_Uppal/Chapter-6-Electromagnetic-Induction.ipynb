{
 "cells": [
  {
   "cell_type": "markdown",
   "metadata": {
    "collapsed": true
   },
   "source": [
    "# Chapter - 6: Electromagnetic Induction"
   ]
  },
  {
   "cell_type": "markdown",
   "metadata": {},
   "source": [
    "## Example 6.2 Page No: 208"
   ]
  },
  {
   "cell_type": "code",
   "execution_count": 2,
   "metadata": {
    "collapsed": false
   },
   "outputs": [
    {
     "name": "stdout",
     "output_type": "stream",
     "text": [
      "Induced EMF is 107978.459441 mV\n",
      "Induced current is 15425.494206 mA\n"
     ]
    }
   ],
   "source": [
    "from math import cos, pi\n",
    "from ipywidgets import interact\n",
    "\n",
    "###################### Given Data ###############################\n",
    "square_loop_side = 0.1 # in meters\n",
    "resistance = 0.5 # in ohm\n",
    "B = 0.10 # magnetic field itensity in tesla\n",
    "theta = 45 # orientation of B in north-east direction(in degrees)\n",
    "\n",
    "##################### Calculation ###############################\n",
    "def emf_and_current(square_loop_side, resistance, B, theta):\n",
    "    A = square_loop_side**2 # Surface area in square-meter\n",
    "    flux_initial = B*A*cos(theta*pi/180) # in weber\n",
    "    flux_final = 0 \n",
    "    flux_change = flux_initial - flux_final\n",
    "    time_change = 0.7 # in second\n",
    "    induced_emf = (flux_change / time_change)*1000 # in milli-volt\n",
    "    induced_current = induced_emf / resistance # in milli-ohm\n",
    "\n",
    "    ##################### Display Results ###########################\n",
    "    print \"Induced EMF is %f mV\" %(induced_emf)\n",
    "    print \"Induced current is %f mA\" %(induced_current)\n",
    "    \n",
    "interact(emf_and_current, square_loop_side=(0.1,10,0.1), resistance=(0.1,10,0.1), B=(0.01,10,0.01), theta=(1,180,1))"
   ]
  },
  {
   "cell_type": "markdown",
   "metadata": {},
   "source": [
    "## Example 6.3 Page no: 209"
   ]
  },
  {
   "cell_type": "code",
   "execution_count": 3,
   "metadata": {
    "collapsed": false
   },
   "outputs": [
    {
     "name": "stdout",
     "output_type": "stream",
     "text": [
      "Induced EMF is -4.569223 V\n",
      "Induced current is -0.091384 A\n"
     ]
    }
   ],
   "source": [
    "from math import pi, cos\n",
    "from ipywidgets import interact\n",
    "\n",
    "############################ Given Data ###############################\n",
    "coil_radius = 0.1 # in meters\n",
    "N = 500 # turns in the coil\n",
    "resistance = 2 # in ohm\n",
    "B = 3.0e-5 # magnetic field itensity in tesla\n",
    "theta_initial = 0 # orientation of coil perpendicular to B (in degrees)\n",
    "theta_final = 180\n",
    "\n",
    "########################### Calculation ###############################\n",
    "def emf_and_current(coil_radius, N, resistance, B, theta_initial, theta_final):\n",
    "    A = pi*coil_radius**2 # Surface area in square-meter\n",
    "    flux_initial = B * A * cos(theta_initial * pi/180) # in weber\n",
    "    flux_final = B * A * cos(theta_final * pi/180) # in weber \n",
    "    flux_change = flux_initial - flux_final\n",
    "    time_change = 0.25 # in second\n",
    "    induced_emf = N * (flux_change / time_change) # in volt\n",
    "    induced_current = induced_emf / resistance # in ohm\n",
    "\n",
    "    ########################### Display Results ###########################\n",
    "    print \"Induced EMF is %f V\" %(induced_emf)\n",
    "    print \"Induced current is %f A\" %(induced_current)\n",
    "    \n",
    "interact(emf_and_current, coil_radius=(0.1,10,0.1), N=(1,1000,1), resistance=(1,100,1), B=(1e-5,10e-5,1e-5), theta_initial=(0,180,1), theta_final=(0,180,1))"
   ]
  },
  {
   "cell_type": "markdown",
   "metadata": {},
   "source": [
    "## Example 6.7 Page no: 215"
   ]
  },
  {
   "cell_type": "code",
   "execution_count": 4,
   "metadata": {
    "collapsed": false
   },
   "outputs": [
    {
     "name": "stdout",
     "output_type": "stream",
     "text": [
      "Induced EMF in volt: 36.0118780394\n"
     ]
    }
   ],
   "source": [
    "from math import pi\n",
    "from ipywidgets import interact\n",
    "\n",
    "############################ Given Data ###############################\n",
    "rod_length = 0.1 # in meters\n",
    "rpm = 120 # in the rev/s\n",
    "R = 0.5 # spoke length(radius of wheel) in m\n",
    "B = 0.4e-4 # magnetic field itensity in tesla\n",
    "\n",
    "########################### Calculation ###############################\n",
    "def emf(rod_length, rpm, R, B):\n",
    "    frequency = rpm / 60\n",
    "    angular_frequency = (2*pi*frequency)\n",
    "    induced_emf = 0.5*rod_length*angular_frequency*B*R**2 # in volt\n",
    "\n",
    "    ########################### Display Results ###########################\n",
    "    print \"Induced EMF in volt:\", induced_emf\n",
    "\n",
    "interact(emf, rod_length=(0.1,10,0.1), rpm=(1,1000,1), R=(0.1,100,0.1), B=(0.1e-4, 0.1e-3, 0.1e-4))    "
   ]
  },
  {
   "cell_type": "markdown",
   "metadata": {},
   "source": [
    "## Example 6.11 Page no: 226"
   ]
  },
  {
   "cell_type": "code",
   "execution_count": 5,
   "metadata": {
    "collapsed": false
   },
   "outputs": [
    {
     "name": "stdout",
     "output_type": "stream",
     "text": [
      "Maximum induced EMF is 244.742006 V\n"
     ]
    }
   ],
   "source": [
    "from math import pi\n",
    "from ipywidgets import interact\n",
    "\n",
    "############################ Given Data ###############################\n",
    "N = 100 # number of turns in the coil\n",
    "A = 0.1 # surface area in square meter\n",
    "f = 0.5 # rps\n",
    "B = 0.01 # magnetic field itensity in tesla\n",
    "\n",
    "    ########################### Calculation ###############################\n",
    "def emf(N, A, f, B):\n",
    "    induced_emf = N*B*A*(2*pi*f) # in volt\n",
    "\n",
    "    ########################### Display Results ###########################\n",
    "    print \"Maximum induced EMF is %f V\" %(induced_emf)\n",
    "    \n",
    "interact(emf, N=(1,500,1),A=(0.01,0.5,0.01),f=(0.1,60,0.1),B=(0.001,0.1,0.001))    "
   ]
  },
  {
   "cell_type": "code",
   "execution_count": null,
   "metadata": {
    "collapsed": true
   },
   "outputs": [],
   "source": []
  }
 ],
 "metadata": {
  "kernelspec": {
   "display_name": "Python 2",
   "language": "python",
   "name": "python2"
  },
  "language_info": {
   "codemirror_mode": {
    "name": "ipython",
    "version": 2
   },
   "file_extension": ".py",
   "mimetype": "text/x-python",
   "name": "python",
   "nbconvert_exporter": "python",
   "pygments_lexer": "ipython2",
   "version": "2.7.5"
  }
 },
 "nbformat": 4,
 "nbformat_minor": 0
}
