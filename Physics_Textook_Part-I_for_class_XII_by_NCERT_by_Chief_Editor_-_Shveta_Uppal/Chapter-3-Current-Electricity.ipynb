{
 "cells": [
  {
   "cell_type": "markdown",
   "metadata": {},
   "source": [
    "# Chapter 3\n",
    "# CURRENT ELECTRICITY"
   ]
  },
  {
   "cell_type": "markdown",
   "metadata": {},
   "source": [
    "## Example 3.1; Page No 99"
   ]
  },
  {
   "cell_type": "code",
   "execution_count": 1,
   "metadata": {
    "collapsed": false
   },
   "outputs": [
    {
     "name": "stdout",
     "output_type": "stream",
     "text": [
      "Drift Speed is:  0.00110243055556 m s^-1\n"
     ]
    }
   ],
   "source": [
    "# Given Data\n",
    "e = 1.6e-19        # charge of electron\n",
    "A = 1.0e-7         # cross-sectional area\n",
    "I = 1.5            # current in copperwire\n",
    "# Formula to calculate Drift Speed is v(d)=(I/neA)\n",
    "n = (6.0e23/63.5)*9.0e6\n",
    "# Calculate Drift Speed\n",
    "v = 1.5/(n*e*A)\n",
    "print \"Drift Speed is: \",v,\"m s^-1\""
   ]
  },
  {
   "cell_type": "markdown",
   "metadata": {},
   "source": [
    "## Example 3.3; Page No 105"
   ]
  },
  {
   "cell_type": "code",
   "execution_count": 2,
   "metadata": {
    "collapsed": false
   },
   "outputs": [
    {
     "name": "stdout",
     "output_type": "stream",
     "text": [
      "The steady temperature of the heating element is: 847.248418092 degree celsius\n"
     ]
    }
   ],
   "source": [
    "# Given Data\n",
    "V = 230        # supply voltage\n",
    "I = 2.68       # current in toaster\n",
    "r1 = 75.3      # resistance at room temperature\n",
    "t1 = 27        # room temperature\n",
    "alpha = 1.70e-4 # Temperature coefficient\n",
    "# Formula to calculate Resistance is R=V/I\n",
    "r2 = V/I\n",
    "r2 = round(r2,1)\n",
    "t = (r2 - r1)/(r1 * alpha)\n",
    "t2 = t + t1\n",
    "print \"The steady temperature of the heating element is:\",t2,\"degree celsius\""
   ]
  },
  {
   "cell_type": "markdown",
   "metadata": {},
   "source": [
    "## Example 3.4; Page No 105"
   ]
  },
  {
   "cell_type": "code",
   "execution_count": 3,
   "metadata": {
    "collapsed": false
   },
   "outputs": [
    {
     "name": "stdout",
     "output_type": "stream",
     "text": [
      "Temperature of the bath is: 345.652173913 degree celsius\n"
     ]
    }
   ],
   "source": [
    "# Given Data\n",
    "r0 = 5          # resistance at ice point\n",
    "r100 = 5.23     # resistance at steam point\n",
    "rt = 5.795      # resistance at hot bath\n",
    "# Formula to calculate temperature is t=((rt - r0)/(r100 - r0)* 100)\n",
    "t = ((rt - r0)/(r100 - r0))*100\n",
    "print \"Temperature of the bath is:\",t,\"degree celsius\""
   ]
  },
  {
   "cell_type": "markdown",
   "metadata": {},
   "source": [
    "## Example 3.5; Page No 112"
   ]
  },
  {
   "cell_type": "code",
   "execution_count": 4,
   "metadata": {
    "collapsed": false
   },
   "outputs": [
    {
     "name": "stdout",
     "output_type": "stream",
     "text": [
      "Equivalent Resistance of the network is:  7 ohm\n",
      "Voltage drop across AB is:  14 volts\n",
      "Voltage drop across BC is:  2 volts\n",
      "Voltage drop across CD is:  8 volts\n"
     ]
    }
   ],
   "source": [
    "\n",
    "# Given Data\n",
    "\n",
    "V = 16        # voltage of battery\n",
    "r = 1         # internal resistance\n",
    "# Equivalent resistance for two 4ohm resistance in parallel\n",
    "r1 = (4 * 4)/(4 + 4)\n",
    "# Equivalent resistance for 12ohm and 6ohm resistance in parallel\n",
    "r2 = (12 * 6)/(12 + 6)\n",
    "# Equivalent resistance for r1, r2 and 1ohm resistance in series\n",
    "r3 = 1\n",
    "R = r1 + r2 + r3\n",
    "print \"Equivalent Resistance of the network is: \",R,\"ohm\"\n",
    "# Formula to calculate current is I = V/(R+r)\n",
    "I = V/(R + r)\n",
    "# I1 is the current in one of the 4 ohm resistors and I2 the current in the other 4 ohm resistor\n",
    "# I1 * 4 = I2 * 4 i.e. I1 = I2\n",
    "# Here I1 + I2 = I\n",
    "# Therefore I1 = I2 = 1A\n",
    "I1 = 1\n",
    "I2 = 1\n",
    "# I3 is the current in the 12 ohm resistor, and I4 in the 6 ohm resistor\n",
    "# I3 * 12 = I4 * 6 i.e. I4 = 2 * I3\n",
    "# Here I3 + I4 = 2A\n",
    "# Therefore I3 = (2/3)A and I4 = (4/3)A\n",
    "I3 = 2/3\n",
    "I4 = 4/3\n",
    "# voltage drop across AB is Vab = I * R\n",
    "Vab = I * R\n",
    "print \"Voltage drop across AB is: \",Vab,\"volts\"\n",
    "# voltage drop across BC is Vbc = I * r3\n",
    "Vbc = I * r3\n",
    "print \"Voltage drop across BC is: \",Vbc,\"volts\"\n",
    "# voltage drop across CD is Vcd = I * r2\n",
    "Vcd = I * r2\n",
    "print \"Voltage drop across CD is: \",Vcd,\"volts\""
   ]
  }
 ],
 "metadata": {
  "kernelspec": {
   "display_name": "Python 2",
   "language": "python",
   "name": "python2"
  },
  "language_info": {
   "codemirror_mode": {
    "name": "ipython",
    "version": 2
   },
   "file_extension": ".py",
   "mimetype": "text/x-python",
   "name": "python",
   "nbconvert_exporter": "python",
   "pygments_lexer": "ipython2",
   "version": "2.7.11"
  }
 },
 "nbformat": 4,
 "nbformat_minor": 0
}
