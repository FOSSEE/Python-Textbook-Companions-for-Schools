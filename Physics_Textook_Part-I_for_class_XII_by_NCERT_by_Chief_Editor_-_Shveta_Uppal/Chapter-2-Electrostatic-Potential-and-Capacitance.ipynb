{
 "cells": [
  {
   "cell_type": "markdown",
   "metadata": {},
   "source": [
    "# Chapter 2 \n",
    "# ELECTROSTATIC POTENTIAL AND CAPACITANCE"
   ]
  },
  {
   "cell_type": "markdown",
   "metadata": {},
   "source": [
    "## Example 2.1; Page No 55"
   ]
  },
  {
   "cell_type": "code",
   "execution_count": 1,
   "metadata": {
    "collapsed": false
   },
   "outputs": [
    {
     "name": "stdout",
     "output_type": "stream",
     "text": [
      "Potential is:  89877.4243799 Volts\n",
      "Work done is:  0.00017975484876 Joules\n"
     ]
    }
   ],
   "source": [
    "from ipywidgets import interact\n",
    "import math\n",
    "# Given Data\n",
    "def pot(Q,r1):\n",
    "    e=1e-7\n",
    "    Q = Q*e           # value of charge at p\n",
    "    r1 = r1/100.0           # distance from point p\n",
    "    eps = 8.854e-12    \n",
    "    q1 = 2e-9           # value of charge at infinity\n",
    "# Formula to calculate potential V = (1/4(*pi*eps))*(Q/r)\n",
    "    v = (1/(4*math.pi*eps))*(Q/r1)\n",
    "    print \"Potential is: \",v,\"Volts\"\n",
    "# Formula to calculate work done W = qV\n",
    "    w = q1*v\n",
    "    print \"Work done is: \",w,\"Joules\"\n",
    "\n",
    "interact(pot,Q=(1,9),r1=(1,9))"
   ]
  },
  {
   "cell_type": "markdown",
   "metadata": {},
   "source": [
    "## Example 2.5; Page No 65"
   ]
  },
  {
   "cell_type": "code",
   "execution_count": 2,
   "metadata": {
    "collapsed": false
   },
   "outputs": [
    {
     "name": "stdout",
     "output_type": "stream",
     "text": [
      "Electrosatic Potential Energy is:  -1.24829756083 Joules\n",
      "Work done is:  1.24829756083 Joules\n",
      "Net Electrostatic Energy is:  -1.24829756083 Joules\n"
     ]
    }
   ],
   "source": [
    "import math\n",
    "from ipywidgets import interact\n",
    "#Give Data\n",
    "\n",
    "def potential(q1,q2):\n",
    "    e=1e-6\n",
    "    q1 = q1*e     # value of charge 1\n",
    "    q2 = q2*e     # value of charge 2\n",
    "    r1 = 0.09      # distance between charges\n",
    "    r2 = -0.09\n",
    "    r = r1 - r2 \n",
    "    eps = 8.854e-12\n",
    "# Formula to calculate electrostaic potential energy U = (1/(4*pi*eps))*((q1*q2)/r)\n",
    "    u = (1/(4*math.pi*eps))*((q1*q2)/r)\n",
    "    print \"Electrosatic Potential Energy is: \",u,\"Joules\"\n",
    "# Formula to claculate work done W = U2 - U1\n",
    "    u1 = u\n",
    "    u2 = 0\n",
    "    w = u2-u1\n",
    "    print \"Work done is: \",w,\"Joules\"\n",
    "# Formula to calculate net electrostatic energy (q1*(V)*r1) + (q2*(V)*r2) + ((q1q2)/4*pi*eps*r12)\n",
    "    A = 9e+5\n",
    "    e = ((A*q1)/r1)+((A*q2)/r1)+u\n",
    "    print \"Net Electrostatic Energy is: \",e,\"Joules\"\n",
    "interact(potential,q1=(1,9),q2=(-9,-1))"
   ]
  },
  {
   "cell_type": "markdown",
   "metadata": {},
   "source": [
    "## Example 2.9; Page No 79"
   ]
  },
  {
   "cell_type": "code",
   "execution_count": 3,
   "metadata": {
    "collapsed": false
   },
   "outputs": [
    {
     "name": "stdout",
     "output_type": "stream",
     "text": [
      "Charge on capacitors C1,C2,C3 is:  0.000833333333333 Coloumb\n",
      "Charge on capacitor C4 is:  0.0025 Coloumb\n"
     ]
    }
   ],
   "source": [
    "from ipywidgets import interact\n",
    "# Given Data\n",
    "\n",
    "def capacitor(c1,c2,c3,c4):\n",
    "    e=1e-6\n",
    "    c1 = c1 * e  # value of capacitors C1,C2,C3,C4\n",
    "    c2 = c2 * e\n",
    "    c3 = c3 * e\n",
    "    c4 = c4 * e\n",
    "# Formula to calculate capacitance when connected in parallel is (1/c) = (1/c1)+(1/c2)+(1/c3)\n",
    "    c = (1/c1)+(1/c2)+(1/c3)\n",
    "    c = 1/c \n",
    "# Formula to calculate capacitance when connected in series is c = c1 + c2 + c3\n",
    "# Calculate equivalent capacitance \n",
    "    c_new = c + c4\n",
    "# Formula to calculate potential difference is V = Q/C\n",
    "# the potential difference across AB is Q/C1\n",
    "# the potential difference across BC is Q/C2\n",
    "# the potential difference across CD is Q/C3\n",
    "    v = 500\n",
    "# Charge on each capacitor is \n",
    "    q = v * c\n",
    "    q1 = v * c4\n",
    "    print \"Charge on capacitors C1,C2,C3 is: \",q,\"Coloumb\"\n",
    "    print \"Charge on capacitor C4 is: \",q1,\"Coloumb\"\n",
    "\n",
    "interact(capacitor,c1=(1,9),c2=(1,9),c3=(1,9),c4=(1,9))"
   ]
  },
  {
   "cell_type": "markdown",
   "metadata": {},
   "source": [
    "## Example 2.10; Page No 82"
   ]
  },
  {
   "cell_type": "code",
   "execution_count": 4,
   "metadata": {
    "collapsed": false
   },
   "outputs": [
    {
     "name": "stdout",
     "output_type": "stream",
     "text": [
      "Charge is:  5.4e-08 Coloumb\n",
      "Energy stored by capacitor is:  2.7e-06 Joules\n",
      "Electrostatic Energy is:  1.35e-06 Joules\n"
     ]
    }
   ],
   "source": [
    "from ipywidgets import interact\n",
    "# Given Data\n",
    "\n",
    "def energy(c):\n",
    "    e = 1e-12\n",
    "    c = c * e   # value of capacitor  \n",
    "    v = 100       # voltage of battery\n",
    "# Formula to find charge is Q = C*V\n",
    "    q = c * v\n",
    "    print \"Charge is: \",q,\"Coloumb\"\n",
    "# Formula to calculate energy stored by capacitor (1/2) C*V^2 = (1/2) Q*V\n",
    "    e = (q * v)/2\n",
    "    print \"Energy stored by capacitor is: \",e,\"Joules\"\n",
    "# Electrostatic Energy\n",
    "# By charge conservation, Q′ = Q/2. This implies V′ = V/2\n",
    "    e1 = (q * v)/4\n",
    "    print \"Electrostatic Energy is: \",e1,\"Joules\"\n",
    "interact(energy,c=(100,1000,10))"
   ]
  }
 ],
 "metadata": {
  "kernelspec": {
   "display_name": "Python 2",
   "language": "python",
   "name": "python2"
  },
  "language_info": {
   "codemirror_mode": {
    "name": "ipython",
    "version": 2
   },
   "file_extension": ".py",
   "mimetype": "text/x-python",
   "name": "python",
   "nbconvert_exporter": "python",
   "pygments_lexer": "ipython2",
   "version": "2.7.11"
  }
 },
 "nbformat": 4,
 "nbformat_minor": 0
}
